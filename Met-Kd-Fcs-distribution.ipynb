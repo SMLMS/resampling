{
 "cells": [
  {
   "cell_type": "markdown",
   "metadata": {
    "hideCode": true,
    "hidePrompt": true
   },
   "source": [
    "# Kd Confidence Interval"
   ]
  },
  {
   "cell_type": "code",
   "execution_count": 1,
   "metadata": {
    "hideCode": true,
    "hidePrompt": true
   },
   "outputs": [],
   "source": [
    "import pandas as pd\n",
    "import numpy as np\n",
    "from scipy.stats import norm\n",
    "from scipy.stats import shapiro\n",
    "from scipy.stats import normaltest\n",
    "from scipy.stats import anderson\n",
    "from scipy.stats import t as tDist\n",
    "from statsmodels.graphics.gofplots import qqplot\n",
    "from matplotlib import pyplot as plt"
   ]
  },
  {
   "cell_type": "markdown",
   "metadata": {
    "hideCode": true,
    "hidePrompt": true
   },
   "source": [
    "## Load Data"
   ]
  },
  {
   "cell_type": "code",
   "execution_count": 2,
   "metadata": {
    "hideCode": true,
    "hidePrompt": true
   },
   "outputs": [
    {
     "name": "stdout",
     "output_type": "stream",
     "text": [
      "Read data from /home/malkusch/PowerFolders/Met-HMM/modeling/Data/met-Kd-fcs/FCS_Model_120908.csv\n",
      "Read data from /home/malkusch/PowerFolders/Met-HMM/modeling/Data/met-Kd-fcs/FCS_Model_120912.csv\n",
      "Read data from /home/malkusch/PowerFolders/Met-HMM/modeling/Data/met-Kd-fcs/FCS_Model_121024.csv\n",
      "Read data from /home/malkusch/PowerFolders/Met-HMM/modeling/Data/met-Kd-fcs/FCS_Model_140716.csv\n"
     ]
    },
    {
     "data": {
      "text/html": [
       "<div>\n",
       "<style scoped>\n",
       "    .dataframe tbody tr th:only-of-type {\n",
       "        vertical-align: middle;\n",
       "    }\n",
       "\n",
       "    .dataframe tbody tr th {\n",
       "        vertical-align: top;\n",
       "    }\n",
       "\n",
       "    .dataframe thead th {\n",
       "        text-align: right;\n",
       "    }\n",
       "</style>\n",
       "<table border=\"1\" class=\"dataframe\">\n",
       "  <thead>\n",
       "    <tr style=\"text-align: right;\">\n",
       "      <th></th>\n",
       "      <th>experiment</th>\n",
       "      <th>Kd</th>\n",
       "      <th>Ka</th>\n",
       "      <th>n</th>\n",
       "      <th>tauLigand</th>\n",
       "      <th>tauComplex</th>\n",
       "      <th>fitSuccess</th>\n",
       "      <th>logL</th>\n",
       "      <th>BIC</th>\n",
       "      <th>AIC</th>\n",
       "      <th>AICc</th>\n",
       "      <th>rmse</th>\n",
       "    </tr>\n",
       "  </thead>\n",
       "  <tbody>\n",
       "    <tr>\n",
       "      <th>0</th>\n",
       "      <td>120908</td>\n",
       "      <td>4.298223</td>\n",
       "      <td>4.298223</td>\n",
       "      <td>1</td>\n",
       "      <td>1.64</td>\n",
       "      <td>3.897949</td>\n",
       "      <td>True</td>\n",
       "      <td>10.796526</td>\n",
       "      <td>-16.623239</td>\n",
       "      <td>-17.593053</td>\n",
       "      <td>-16.259719</td>\n",
       "      <td>0.098380</td>\n",
       "    </tr>\n",
       "    <tr>\n",
       "      <th>1</th>\n",
       "      <td>120908</td>\n",
       "      <td>5.233679</td>\n",
       "      <td>5.233679</td>\n",
       "      <td>1</td>\n",
       "      <td>1.64</td>\n",
       "      <td>3.934945</td>\n",
       "      <td>True</td>\n",
       "      <td>8.116483</td>\n",
       "      <td>-11.263152</td>\n",
       "      <td>-12.232965</td>\n",
       "      <td>-10.899632</td>\n",
       "      <td>0.118935</td>\n",
       "    </tr>\n",
       "    <tr>\n",
       "      <th>2</th>\n",
       "      <td>120908</td>\n",
       "      <td>5.186762</td>\n",
       "      <td>5.186762</td>\n",
       "      <td>1</td>\n",
       "      <td>1.64</td>\n",
       "      <td>3.969429</td>\n",
       "      <td>True</td>\n",
       "      <td>8.887982</td>\n",
       "      <td>-12.806150</td>\n",
       "      <td>-13.775963</td>\n",
       "      <td>-12.442630</td>\n",
       "      <td>0.113400</td>\n",
       "    </tr>\n",
       "    <tr>\n",
       "      <th>3</th>\n",
       "      <td>120908</td>\n",
       "      <td>5.189958</td>\n",
       "      <td>5.189958</td>\n",
       "      <td>1</td>\n",
       "      <td>1.64</td>\n",
       "      <td>3.945516</td>\n",
       "      <td>True</td>\n",
       "      <td>5.802031</td>\n",
       "      <td>-6.634250</td>\n",
       "      <td>-7.604063</td>\n",
       "      <td>-6.270730</td>\n",
       "      <td>0.134175</td>\n",
       "    </tr>\n",
       "    <tr>\n",
       "      <th>4</th>\n",
       "      <td>120908</td>\n",
       "      <td>5.007850</td>\n",
       "      <td>5.007850</td>\n",
       "      <td>1</td>\n",
       "      <td>1.64</td>\n",
       "      <td>3.935488</td>\n",
       "      <td>True</td>\n",
       "      <td>6.857668</td>\n",
       "      <td>-8.745523</td>\n",
       "      <td>-9.715337</td>\n",
       "      <td>-8.382003</td>\n",
       "      <td>0.127450</td>\n",
       "    </tr>\n",
       "    <tr>\n",
       "      <th>...</th>\n",
       "      <td>...</td>\n",
       "      <td>...</td>\n",
       "      <td>...</td>\n",
       "      <td>...</td>\n",
       "      <td>...</td>\n",
       "      <td>...</td>\n",
       "      <td>...</td>\n",
       "      <td>...</td>\n",
       "      <td>...</td>\n",
       "      <td>...</td>\n",
       "      <td>...</td>\n",
       "      <td>...</td>\n",
       "    </tr>\n",
       "    <tr>\n",
       "      <th>395</th>\n",
       "      <td>140716</td>\n",
       "      <td>2.303181</td>\n",
       "      <td>2.303181</td>\n",
       "      <td>1</td>\n",
       "      <td>2.48</td>\n",
       "      <td>3.866574</td>\n",
       "      <td>True</td>\n",
       "      <td>-3.151410</td>\n",
       "      <td>10.907990</td>\n",
       "      <td>10.302820</td>\n",
       "      <td>12.017105</td>\n",
       "      <td>0.184325</td>\n",
       "    </tr>\n",
       "    <tr>\n",
       "      <th>396</th>\n",
       "      <td>140716</td>\n",
       "      <td>2.640471</td>\n",
       "      <td>2.640471</td>\n",
       "      <td>1</td>\n",
       "      <td>2.48</td>\n",
       "      <td>3.900033</td>\n",
       "      <td>True</td>\n",
       "      <td>2.990762</td>\n",
       "      <td>-1.376354</td>\n",
       "      <td>-1.981524</td>\n",
       "      <td>-0.267239</td>\n",
       "      <td>0.147280</td>\n",
       "    </tr>\n",
       "    <tr>\n",
       "      <th>397</th>\n",
       "      <td>140716</td>\n",
       "      <td>2.533185</td>\n",
       "      <td>2.533185</td>\n",
       "      <td>1</td>\n",
       "      <td>2.48</td>\n",
       "      <td>3.761532</td>\n",
       "      <td>True</td>\n",
       "      <td>0.571374</td>\n",
       "      <td>3.462422</td>\n",
       "      <td>2.857252</td>\n",
       "      <td>4.571538</td>\n",
       "      <td>0.162881</td>\n",
       "    </tr>\n",
       "    <tr>\n",
       "      <th>398</th>\n",
       "      <td>140716</td>\n",
       "      <td>2.416162</td>\n",
       "      <td>2.416162</td>\n",
       "      <td>1</td>\n",
       "      <td>2.48</td>\n",
       "      <td>3.711396</td>\n",
       "      <td>True</td>\n",
       "      <td>0.579398</td>\n",
       "      <td>3.446374</td>\n",
       "      <td>2.841203</td>\n",
       "      <td>4.555489</td>\n",
       "      <td>0.162832</td>\n",
       "    </tr>\n",
       "    <tr>\n",
       "      <th>399</th>\n",
       "      <td>140716</td>\n",
       "      <td>4.358085</td>\n",
       "      <td>4.358085</td>\n",
       "      <td>1</td>\n",
       "      <td>2.48</td>\n",
       "      <td>3.981955</td>\n",
       "      <td>True</td>\n",
       "      <td>-10.099534</td>\n",
       "      <td>24.804238</td>\n",
       "      <td>24.199067</td>\n",
       "      <td>25.913353</td>\n",
       "      <td>0.218797</td>\n",
       "    </tr>\n",
       "  </tbody>\n",
       "</table>\n",
       "<p>400 rows × 12 columns</p>\n",
       "</div>"
      ],
      "text/plain": [
       "     experiment        Kd        Ka  n  tauLigand  tauComplex  fitSuccess  \\\n",
       "0        120908  4.298223  4.298223  1       1.64    3.897949        True   \n",
       "1        120908  5.233679  5.233679  1       1.64    3.934945        True   \n",
       "2        120908  5.186762  5.186762  1       1.64    3.969429        True   \n",
       "3        120908  5.189958  5.189958  1       1.64    3.945516        True   \n",
       "4        120908  5.007850  5.007850  1       1.64    3.935488        True   \n",
       "..          ...       ...       ... ..        ...         ...         ...   \n",
       "395      140716  2.303181  2.303181  1       2.48    3.866574        True   \n",
       "396      140716  2.640471  2.640471  1       2.48    3.900033        True   \n",
       "397      140716  2.533185  2.533185  1       2.48    3.761532        True   \n",
       "398      140716  2.416162  2.416162  1       2.48    3.711396        True   \n",
       "399      140716  4.358085  4.358085  1       2.48    3.981955        True   \n",
       "\n",
       "          logL        BIC        AIC       AICc      rmse  \n",
       "0    10.796526 -16.623239 -17.593053 -16.259719  0.098380  \n",
       "1     8.116483 -11.263152 -12.232965 -10.899632  0.118935  \n",
       "2     8.887982 -12.806150 -13.775963 -12.442630  0.113400  \n",
       "3     5.802031  -6.634250  -7.604063  -6.270730  0.134175  \n",
       "4     6.857668  -8.745523  -9.715337  -8.382003  0.127450  \n",
       "..         ...        ...        ...        ...       ...  \n",
       "395  -3.151410  10.907990  10.302820  12.017105  0.184325  \n",
       "396   2.990762  -1.376354  -1.981524  -0.267239  0.147280  \n",
       "397   0.571374   3.462422   2.857252   4.571538  0.162881  \n",
       "398   0.579398   3.446374   2.841203   4.555489  0.162832  \n",
       "399 -10.099534  24.804238  24.199067  25.913353  0.218797  \n",
       "\n",
       "[400 rows x 12 columns]"
      ]
     },
     "execution_count": 2,
     "metadata": {},
     "output_type": "execute_result"
    }
   ],
   "source": [
    "folderName = \"/home/malkusch/PowerFolders/Met-HMM/modeling/Data/met-Kd-fcs/\"\n",
    "date = (120908, 120912, 121024, 140716)\n",
    "i = 0\n",
    "fileName = str('%sFCS_Model_%i.csv' %(folderName, date[i]))\n",
    "df_raw = pd.read_csv(filepath_or_buffer = fileName, index_col = 0)\n",
    "print('Read data from %s' %(fileName))\n",
    "df_raw['experiment'] = date[i] \n",
    "for i in range(1,len(date),1):\n",
    "    fileName = str('%sFCS_Model_%i.csv' %(folderName, date[i]))\n",
    "    df_temp = pd.read_csv(filepath_or_buffer = fileName, index_col = 0)\n",
    "    print('Read data from %s' %(fileName))\n",
    "    df_temp['experiment'] = date[i]\n",
    "    df_raw = df_raw.append(df_temp)\n",
    "    \n",
    "df_raw.index = range(df_raw.shape[0])\n",
    "df_raw = df_raw[['experiment', 'Kd', 'Ka', 'n', 'tauLigand', 'tauComplex', 'fitSuccess', 'logL', 'BIC', 'AIC', 'AICc', 'rmse']]\n",
    "df_raw"
   ]
  },
  {
   "cell_type": "markdown",
   "metadata": {
    "hideCode": true,
    "hidePrompt": true
   },
   "source": [
    "## Filter Data"
   ]
  },
  {
   "cell_type": "code",
   "execution_count": 3,
   "metadata": {
    "hideCode": true,
    "hidePrompt": true
   },
   "outputs": [
    {
     "name": "stdout",
     "output_type": "stream",
     "text": [
      "Analysis of complete data\n"
     ]
    }
   ],
   "source": [
    "i = -1\n",
    "if(i!=-1):\n",
    "    df_raw = df_raw[df_raw['experiment'] == date[i]]\n",
    "    print('Analysis of experiment %i' %(date[i]))\n",
    "else:\n",
    "    print('Analysis of complete data')"
   ]
  },
  {
   "cell_type": "markdown",
   "metadata": {
    "hideCode": true,
    "hidePrompt": true
   },
   "source": [
    "## Data statistics"
   ]
  },
  {
   "cell_type": "code",
   "execution_count": 4,
   "metadata": {
    "hideCode": true,
    "hidePrompt": true
   },
   "outputs": [
    {
     "data": {
      "text/html": [
       "<div>\n",
       "<style scoped>\n",
       "    .dataframe tbody tr th:only-of-type {\n",
       "        vertical-align: middle;\n",
       "    }\n",
       "\n",
       "    .dataframe tbody tr th {\n",
       "        vertical-align: top;\n",
       "    }\n",
       "\n",
       "    .dataframe thead th {\n",
       "        text-align: right;\n",
       "    }\n",
       "</style>\n",
       "<table border=\"1\" class=\"dataframe\">\n",
       "  <thead>\n",
       "    <tr style=\"text-align: right;\">\n",
       "      <th></th>\n",
       "      <th>experiment</th>\n",
       "      <th>Kd</th>\n",
       "      <th>Ka</th>\n",
       "      <th>n</th>\n",
       "      <th>tauLigand</th>\n",
       "      <th>tauComplex</th>\n",
       "      <th>logL</th>\n",
       "      <th>BIC</th>\n",
       "      <th>AIC</th>\n",
       "      <th>AICc</th>\n",
       "      <th>rmse</th>\n",
       "    </tr>\n",
       "  </thead>\n",
       "  <tbody>\n",
       "    <tr>\n",
       "      <th>count</th>\n",
       "      <td>400.000000</td>\n",
       "      <td>400.000000</td>\n",
       "      <td>400.000000</td>\n",
       "      <td>400.0</td>\n",
       "      <td>400.00000</td>\n",
       "      <td>400.000000</td>\n",
       "      <td>400.000000</td>\n",
       "      <td>400.000000</td>\n",
       "      <td>400.000000</td>\n",
       "      <td>400.000000</td>\n",
       "      <td>400.000000</td>\n",
       "    </tr>\n",
       "    <tr>\n",
       "      <th>mean</th>\n",
       "      <td>125890.000000</td>\n",
       "      <td>3.876895</td>\n",
       "      <td>3.876895</td>\n",
       "      <td>1.0</td>\n",
       "      <td>1.98750</td>\n",
       "      <td>4.113425</td>\n",
       "      <td>2.286716</td>\n",
       "      <td>0.214060</td>\n",
       "      <td>-0.573432</td>\n",
       "      <td>0.950377</td>\n",
       "      <td>0.151718</td>\n",
       "    </tr>\n",
       "    <tr>\n",
       "      <th>std</th>\n",
       "      <td>8570.641735</td>\n",
       "      <td>0.978178</td>\n",
       "      <td>0.978178</td>\n",
       "      <td>0.0</td>\n",
       "      <td>0.34506</td>\n",
       "      <td>0.298618</td>\n",
       "      <td>6.035868</td>\n",
       "      <td>11.944060</td>\n",
       "      <td>12.071736</td>\n",
       "      <td>12.206613</td>\n",
       "      <td>0.034230</td>\n",
       "    </tr>\n",
       "    <tr>\n",
       "      <th>min</th>\n",
       "      <td>120908.000000</td>\n",
       "      <td>1.505998</td>\n",
       "      <td>1.505998</td>\n",
       "      <td>1.0</td>\n",
       "      <td>1.64000</td>\n",
       "      <td>3.680976</td>\n",
       "      <td>-19.711531</td>\n",
       "      <td>-19.800890</td>\n",
       "      <td>-20.770703</td>\n",
       "      <td>-19.437370</td>\n",
       "      <td>0.083849</td>\n",
       "    </tr>\n",
       "    <tr>\n",
       "      <th>25%</th>\n",
       "      <td>120911.000000</td>\n",
       "      <td>3.091930</td>\n",
       "      <td>3.091930</td>\n",
       "      <td>1.0</td>\n",
       "      <td>1.67750</td>\n",
       "      <td>3.918667</td>\n",
       "      <td>-1.862708</td>\n",
       "      <td>-8.764945</td>\n",
       "      <td>-9.734758</td>\n",
       "      <td>-8.384901</td>\n",
       "      <td>0.126804</td>\n",
       "    </tr>\n",
       "    <tr>\n",
       "      <th>50%</th>\n",
       "      <td>120968.000000</td>\n",
       "      <td>4.103405</td>\n",
       "      <td>4.103405</td>\n",
       "      <td>1.0</td>\n",
       "      <td>1.91500</td>\n",
       "      <td>4.017846</td>\n",
       "      <td>3.861469</td>\n",
       "      <td>-2.995108</td>\n",
       "      <td>-3.722938</td>\n",
       "      <td>-2.262245</td>\n",
       "      <td>0.143947</td>\n",
       "    </tr>\n",
       "    <tr>\n",
       "      <th>75%</th>\n",
       "      <td>125947.000000</td>\n",
       "      <td>4.734730</td>\n",
       "      <td>4.734730</td>\n",
       "      <td>1.0</td>\n",
       "      <td>2.22500</td>\n",
       "      <td>4.216607</td>\n",
       "      <td>6.867379</td>\n",
       "      <td>8.330586</td>\n",
       "      <td>7.725416</td>\n",
       "      <td>9.439702</td>\n",
       "      <td>0.177195</td>\n",
       "    </tr>\n",
       "    <tr>\n",
       "      <th>max</th>\n",
       "      <td>140716.000000</td>\n",
       "      <td>5.669789</td>\n",
       "      <td>5.669789</td>\n",
       "      <td>1.0</td>\n",
       "      <td>2.48000</td>\n",
       "      <td>4.705249</td>\n",
       "      <td>12.385351</td>\n",
       "      <td>44.028232</td>\n",
       "      <td>43.423061</td>\n",
       "      <td>45.137347</td>\n",
       "      <td>0.259029</td>\n",
       "    </tr>\n",
       "  </tbody>\n",
       "</table>\n",
       "</div>"
      ],
      "text/plain": [
       "          experiment          Kd          Ka      n  tauLigand  tauComplex  \\\n",
       "count     400.000000  400.000000  400.000000  400.0  400.00000  400.000000   \n",
       "mean   125890.000000    3.876895    3.876895    1.0    1.98750    4.113425   \n",
       "std      8570.641735    0.978178    0.978178    0.0    0.34506    0.298618   \n",
       "min    120908.000000    1.505998    1.505998    1.0    1.64000    3.680976   \n",
       "25%    120911.000000    3.091930    3.091930    1.0    1.67750    3.918667   \n",
       "50%    120968.000000    4.103405    4.103405    1.0    1.91500    4.017846   \n",
       "75%    125947.000000    4.734730    4.734730    1.0    2.22500    4.216607   \n",
       "max    140716.000000    5.669789    5.669789    1.0    2.48000    4.705249   \n",
       "\n",
       "             logL         BIC         AIC        AICc        rmse  \n",
       "count  400.000000  400.000000  400.000000  400.000000  400.000000  \n",
       "mean     2.286716    0.214060   -0.573432    0.950377    0.151718  \n",
       "std      6.035868   11.944060   12.071736   12.206613    0.034230  \n",
       "min    -19.711531  -19.800890  -20.770703  -19.437370    0.083849  \n",
       "25%     -1.862708   -8.764945   -9.734758   -8.384901    0.126804  \n",
       "50%      3.861469   -2.995108   -3.722938   -2.262245    0.143947  \n",
       "75%      6.867379    8.330586    7.725416    9.439702    0.177195  \n",
       "max     12.385351   44.028232   43.423061   45.137347    0.259029  "
      ]
     },
     "execution_count": 4,
     "metadata": {},
     "output_type": "execute_result"
    }
   ],
   "source": [
    "df_raw.describe()"
   ]
  },
  {
   "cell_type": "markdown",
   "metadata": {
    "hideCode": true,
    "hidePrompt": true
   },
   "source": [
    "## Test For Normality"
   ]
  },
  {
   "cell_type": "code",
   "execution_count": 5,
   "metadata": {
    "hideCode": true,
    "hidePrompt": true
   },
   "outputs": [
    {
     "name": "stdout",
     "output_type": "stream",
     "text": [
      "Expectation Value: 3.877\n",
      "Standard deviation: 0.977\n"
     ]
    }
   ],
   "source": [
    "mean,std=norm.fit(df_raw['Kd'])\n",
    "print('Expectation Value: %.3f' %mean)\n",
    "print('Standard deviation: %.3f' %std)"
   ]
  },
  {
   "cell_type": "markdown",
   "metadata": {
    "hideCode": true,
    "hidePrompt": true
   },
   "source": [
    "### qqPlot"
   ]
  },
  {
   "cell_type": "code",
   "execution_count": 6,
   "metadata": {
    "hideCode": true,
    "hidePrompt": true
   },
   "outputs": [
    {
     "data": {
      "image/png": "[encoded data removed]",
      "text/plain": [
       "<Figure size 432x288 with 1 Axes>"
      ]
     },
     "metadata": {
      "needs_background": "light"
     },
     "output_type": "display_data"
    }
   ],
   "source": [
    "qqplot(df_raw['Kd'], line='s')\n",
    "plt.show()"
   ]
  },
  {
   "cell_type": "markdown",
   "metadata": {
    "hideCode": true,
    "hidePrompt": true
   },
   "source": [
    "### Shapiro-Wilk Test"
   ]
  },
  {
   "cell_type": "code",
   "execution_count": 7,
   "metadata": {
    "hideCode": true,
    "hidePrompt": true
   },
   "outputs": [
    {
     "name": "stdout",
     "output_type": "stream",
     "text": [
      "Statistics=0.944, p=3.758e-11\n",
      "Sample does not look Gaussian (reject H0)\n"
     ]
    }
   ],
   "source": [
    "stat, p = shapiro(df_raw['Kd'])\n",
    "print('Statistics=%.3f, p=%.3e' % (stat, p))\n",
    "# interpret\n",
    "alpha = 0.05\n",
    "if p > alpha:\n",
    "    print('Sample looks Gaussian (fail to reject H0)')\n",
    "else:\n",
    "    print('Sample does not look Gaussian (reject H0)')"
   ]
  },
  {
   "cell_type": "markdown",
   "metadata": {
    "hideCode": true,
    "hidePrompt": true
   },
   "source": [
    "### D’Agostino’s K^2 Test"
   ]
  },
  {
   "cell_type": "code",
   "execution_count": 8,
   "metadata": {
    "hideCode": true,
    "hidePrompt": true
   },
   "outputs": [
    {
     "name": "stdout",
     "output_type": "stream",
     "text": [
      "Statistics=119.218, p=1.295e-26\n",
      "Sample does not look Gaussian (reject H0)\n"
     ]
    }
   ],
   "source": [
    "stat, p = normaltest(df_raw['Kd'])\n",
    "print('Statistics=%.3f, p=%.3e' % (stat, p))\n",
    "# interpret\n",
    "alpha = 0.05\n",
    "if p > alpha:\n",
    "    print('Sample looks Gaussian (fail to reject H0)')\n",
    "else:\n",
    "    print('Sample does not look Gaussian (reject H0)')"
   ]
  },
  {
   "cell_type": "markdown",
   "metadata": {
    "hideCode": true,
    "hidePrompt": true
   },
   "source": [
    "### Anderson-Darling Test"
   ]
  },
  {
   "cell_type": "code",
   "execution_count": 9,
   "metadata": {
    "hideCode": true,
    "hidePrompt": true
   },
   "outputs": [
    {
     "name": "stdout",
     "output_type": "stream",
     "text": [
      "Statistic: 8.951\n",
      "15.000: 0.570, data does not look normal (reject H0)\n",
      "10.000: 0.650, data does not look normal (reject H0)\n",
      "5.000: 0.779, data does not look normal (reject H0)\n",
      "2.500: 0.909, data does not look normal (reject H0)\n",
      "1.000: 1.081, data does not look normal (reject H0)\n"
     ]
    }
   ],
   "source": [
    "result = anderson(df_raw['Kd'])\n",
    "print('Statistic: %.3f' % result.statistic)\n",
    "p = 0\n",
    "for i in range(len(result.critical_values)):\n",
    "    sl, cv = result.significance_level[i], result.critical_values[i]\n",
    "    if result.statistic < result.critical_values[i]:\n",
    "        print('%.3f: %.3f, data looks normal (fail to reject H0)' % (sl, cv))\n",
    "    else:\n",
    "        print('%.3f: %.3f, data does not look normal (reject H0)' % (sl, cv))"
   ]
  },
  {
   "cell_type": "markdown",
   "metadata": {
    "hideCode": true,
    "hidePrompt": true
   },
   "source": [
    "## 95% Confidence Interval"
   ]
  },
  {
   "cell_type": "code",
   "execution_count": 10,
   "metadata": {
    "hideCode": true,
    "hidePrompt": true
   },
   "outputs": [
    {
     "name": "stdout",
     "output_type": "stream",
     "text": [
      "95 percent of all values are in [1.956, 5.798]\n"
     ]
    }
   ],
   "source": [
    "ciMin, ciMax = tDist.interval(0.95, df_raw['Kd'].shape[0]-1, loc=mean, scale=std)\n",
    "#print(mean - 1.960*std)\n",
    "#print(mean + 1.960*std)\n",
    "print('95 percent of all values are in [%.3f, %.3f]' %(ciMin,ciMax))\n"
   ]
  },
  {
   "cell_type": "markdown",
   "metadata": {
    "hideCode": true,
    "hidePrompt": true
   },
   "source": [
    "## Plot Result"
   ]
  },
  {
   "cell_type": "code",
   "execution_count": 11,
   "metadata": {
    "hideCode": true,
    "hidePrompt": true
   },
   "outputs": [
    {
     "data": {
      "image/png": "[encoded data removed]",
      "text/plain": [
       "<Figure size 432x288 with 1 Axes>"
      ]
     },
     "metadata": {
      "needs_background": "light"
     },
     "output_type": "display_data"
    }
   ],
   "source": [
    "x = np.linspace(mean - 4*std, mean + 4*std, 25)\n",
    "y = norm.pdf(x, mean, std)\n",
    "y = df_raw.shape[0] * y/sum(y)\n",
    "df_raw.hist('Kd', bins = 15, color = 'grey')\n",
    "plt.plot(x,y, '--b')\n",
    "plt.axvline(x=ciMin, color= 'r')\n",
    "plt.axvline(x=ciMax, color = 'r')\n",
    "plt.xlabel(xlabel = 'Kd [nM]')\n",
    "plt.ylabel(ylabel= 'frequency')\n",
    "plt.show()"
   ]
  }
 ],
 "metadata": {
  "hide_code_all_hidden": true,
  "kernelspec": {
   "display_name": "Python 3",
   "language": "python",
   "name": "python3"
  },
  "language_info": {
   "codemirror_mode": {
    "name": "ipython",
    "version": 3
   },
   "file_extension": ".py",
   "mimetype": "text/x-python",
   "name": "python",
   "nbconvert_exporter": "python",
   "pygments_lexer": "ipython3",
   "version": "3.7.5"
  }
 },
 "nbformat": 4,
 "nbformat_minor": 2
}
